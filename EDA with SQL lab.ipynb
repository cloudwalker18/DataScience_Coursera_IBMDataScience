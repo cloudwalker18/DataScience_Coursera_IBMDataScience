{
    "cells": [
        {
            "cell_type": "markdown",
            "metadata": {},
            "source": "<p style=\"text-align:center\">\n    <a href=\"https://skills.network/?utm_medium=Exinfluencer&utm_source=Exinfluencer&utm_content=000026UJ&utm_term=10006555&utm_id=NA-SkillsNetwork-Channel-SkillsNetworkCoursesIBMDS0321ENSkillsNetwork26802033-2022-01-01\" target=\"_blank\">\n    <img src=\"https://cf-courses-data.s3.us.cloud-object-storage.appdomain.cloud/assets/logos/SN_web_lightmode.png\" width=\"200\" alt=\"Skills Network Logo\"  />\n    </a>\n</p>\n\n<h1 align=center><font size = 5>Assignment: SQL Notebook for Peer Assignment</font></h1>\n\nEstimated time needed: **60** minutes.\n\n## Introduction\n\nUsing this Python notebook you will:\n\n1.  Understand the Spacex DataSet\n2.  Load the dataset  into the corresponding table in a Db2 database\n3.  Execute SQL queries to answer assignment questions\n"
        },
        {
            "cell_type": "markdown",
            "metadata": {},
            "source": "## Overview of the DataSet\n\nSpaceX has gained worldwide attention for a series of historic milestones.\n\nIt is the only private company ever to return a spacecraft from low-earth orbit, which it first accomplished in December 2010.\nSpaceX advertises Falcon 9 rocket launches on its website with a cost of 62 million dollars wheras other providers cost upward of 165 million dollars each, much of the savings is because Space X can reuse the first stage.\n\nTherefore if we can determine if the first stage will land, we can determine the cost of a launch.\n\nThis information can be used if an alternate company wants to bid against SpaceX for a rocket launch.\n\nThis dataset includes a record for each payload carried during a SpaceX mission into outer space.\n"
        },
        {
            "cell_type": "markdown",
            "metadata": {},
            "source": "### Download the datasets\n\nThis assignment requires you to load the spacex dataset.\n\nIn many cases the dataset to be analyzed is available as a .CSV (comma separated values) file, perhaps on the internet. Click on the link below to download and save the dataset (.CSV file):\n\n<a href=\"https://cf-courses-data.s3.us.cloud-object-storage.appdomain.cloud/IBM-DS0321EN-SkillsNetwork/labs/module_2/data/Spacex.csv?utm_medium=Exinfluencer&utm_source=Exinfluencer&utm_content=000026UJ&utm_term=10006555&utm_id=NA-SkillsNetwork-Channel-SkillsNetworkCoursesIBMDS0321ENSkillsNetwork26802033-2022-01-01\" target=\"_blank\">Spacex DataSet</a>\n"
        },
        {
            "cell_type": "markdown",
            "metadata": {},
            "source": "### Store the dataset in database table\n\n**it is highly recommended to manually load the table using the database console LOAD tool in DB2**.\n\n<img src = \"https://cf-courses-data.s3.us.cloud-object-storage.appdomain.cloud/IBM-DS0321EN-SkillsNetwork/labs/module_2/images/spacexload.png\">\n\nNow open the Db2 console, open the LOAD tool, Select / Drag the .CSV file for the  dataset, Next create a New Table, and then follow the steps on-screen instructions to load the data. Name the new table as follows:\n\n**SPACEXDATASET**\n\n**Follow these steps while using old DB2 UI which is having Open Console Screen**\n\n**Note:While loading Spacex dataset, ensure that detect datatypes is disabled. Later click on the pencil icon(edit option).**\n\n1.  Change the Date Format by manually typing DD-MM-YYYY and timestamp format as DD-MM-YYYY HH\\:MM:SS.\n\n    Here you should place the cursor at Date field and manually type as DD-MM-YYYY.\n\n2.  Change the PAYLOAD_MASS\\_\\_KG\\_  datatype  to INTEGER.\n\n<img src = \"https://cf-courses-data.s3.us.cloud-object-storage.appdomain.cloud/IBM-DS0321EN-SkillsNetwork/labs/module_2/images/spacexload2.png\">\n"
        },
        {
            "cell_type": "markdown",
            "metadata": {},
            "source": "**Changes to be considered when having DB2 instance with the new UI having Go to UI screen**\n\n*   Refer to this insruction in this <a href=\"https://cf-courses-data.s3.us.cloud-object-storage.appdomain.cloud/IBMDeveloperSkillsNetwork-DB0201EN-SkillsNetwork/labs/Labs_Coursera_V5/labs/Lab%20-%20Sign%20up%20for%20IBM%20Cloud%20-%20Create%20Db2%20service%20instance%20-%20Get%20started%20with%20the%20Db2%20console/instructional-labs.md.html?utm_medium=Exinfluencer&utm_source=Exinfluencer&utm_content=000026UJ&utm_term=10006555&utm_id=NA-SkillsNetwork-Channel-SkillsNetworkCoursesIBMDS0321ENSkillsNetwork26802033-2022-01-01\">link</a> for viewing  the new  Go to UI screen.\n\n*   Later click on **Data link(below SQL)**  in the Go to UI screen  and click on **Load Data** tab.\n\n*   Later browse for the downloaded spacex file.\n\n<img src=\"https://cf-courses-data.s3.us.cloud-object-storage.appdomain.cloud/IBM-DS0321EN-SkillsNetwork/labs/module_2/images/browsefile.png\" width=\"800\"/>\n\n*   Once done select the schema andload the file.\n\n <img src=\"https://cf-courses-data.s3.us.cloud-object-storage.appdomain.cloud/IBM-DS0321EN-SkillsNetwork/labs/module_2/images/spacexload3.png\" width=\"800\"/>\n"
        },
        {
            "cell_type": "code",
            "execution_count": 1,
            "metadata": {},
            "outputs": [
                {
                    "name": "stdout",
                    "output_type": "stream",
                    "text": "Collecting sqlalchemy==1.3.9\n  Downloading SQLAlchemy-1.3.9.tar.gz (6.0 MB)\n\u001b[K     |\u2588\u2588\u2588\u2588\u2588\u2588\u2588\u2588\u2588\u2588\u2588\u2588\u2588\u2588\u2588\u2588\u2588\u2588\u2588\u2588\u2588\u2588\u2588\u2588\u2588\u2588\u2588\u2588\u2588\u2588\u2588\u2588| 6.0 MB 12.8 MB/s eta 0:00:01\n\u001b[?25hBuilding wheels for collected packages: sqlalchemy\n  Building wheel for sqlalchemy (setup.py) ... \u001b[?25ldone\n\u001b[?25h  Created wheel for sqlalchemy: filename=SQLAlchemy-1.3.9-cp39-cp39-linux_x86_64.whl size=1159954 sha256=9a44c99dbc17402d0b481110acd1fe3cd09d5451893e61aff2df50952bdc5dfe\n  Stored in directory: /tmp/wsuser/.cache/pip/wheels/5b/43/0d/de1699809f9e6aaa54a97275298fa07075cb19acc557b18955\nSuccessfully built sqlalchemy\nInstalling collected packages: sqlalchemy\n  Attempting uninstall: sqlalchemy\n    Found existing installation: SQLAlchemy 1.4.27\n    Uninstalling SQLAlchemy-1.4.27:\n      Successfully uninstalled SQLAlchemy-1.4.27\nSuccessfully installed sqlalchemy-1.3.9\nRequirement already satisfied: ibm_db_sa in /opt/conda/envs/Python-3.9/lib/python3.9/site-packages (0.3.7)\nRequirement already satisfied: ibm-db>=2.0.0 in /opt/conda/envs/Python-3.9/lib/python3.9/site-packages (from ibm_db_sa) (3.1.0)\nRequirement already satisfied: sqlalchemy>=0.7.3 in /opt/conda/envs/Python-3.9/lib/python3.9/site-packages (from ibm_db_sa) (1.3.9)\nCollecting ipython-sql\n  Downloading ipython_sql-0.4.1-py3-none-any.whl (21 kB)\nRequirement already satisfied: ipython>=1.0 in /opt/conda/envs/Python-3.9/lib/python3.9/site-packages (from ipython-sql) (7.29.0)\nRequirement already satisfied: ipython-genutils>=0.1.0 in /opt/conda/envs/Python-3.9/lib/python3.9/site-packages (from ipython-sql) (0.2.0)\nRequirement already satisfied: six in /opt/conda/envs/Python-3.9/lib/python3.9/site-packages (from ipython-sql) (1.15.0)\nCollecting sqlparse\n  Downloading sqlparse-0.4.2-py3-none-any.whl (42 kB)\n\u001b[K     |\u2588\u2588\u2588\u2588\u2588\u2588\u2588\u2588\u2588\u2588\u2588\u2588\u2588\u2588\u2588\u2588\u2588\u2588\u2588\u2588\u2588\u2588\u2588\u2588\u2588\u2588\u2588\u2588\u2588\u2588\u2588\u2588| 42 kB 2.0 MB/s  eta 0:00:01\n\u001b[?25hCollecting prettytable<1\n  Downloading prettytable-0.7.2.zip (28 kB)\nRequirement already satisfied: sqlalchemy>=0.6.7 in /opt/conda/envs/Python-3.9/lib/python3.9/site-packages (from ipython-sql) (1.3.9)\nRequirement already satisfied: prompt-toolkit!=3.0.0,!=3.0.1,<3.1.0,>=2.0.0 in /opt/conda/envs/Python-3.9/lib/python3.9/site-packages (from ipython>=1.0->ipython-sql) (3.0.20)\nRequirement already satisfied: traitlets>=4.2 in /opt/conda/envs/Python-3.9/lib/python3.9/site-packages (from ipython>=1.0->ipython-sql) (5.1.1)\nRequirement already satisfied: setuptools>=18.5 in /opt/conda/envs/Python-3.9/lib/python3.9/site-packages (from ipython>=1.0->ipython-sql) (58.0.4)\nRequirement already satisfied: pickleshare in /opt/conda/envs/Python-3.9/lib/python3.9/site-packages (from ipython>=1.0->ipython-sql) (0.7.5)\nRequirement already satisfied: pygments in /opt/conda/envs/Python-3.9/lib/python3.9/site-packages (from ipython>=1.0->ipython-sql) (2.10.0)\nRequirement already satisfied: backcall in /opt/conda/envs/Python-3.9/lib/python3.9/site-packages (from ipython>=1.0->ipython-sql) (0.2.0)\nRequirement already satisfied: matplotlib-inline in /opt/conda/envs/Python-3.9/lib/python3.9/site-packages (from ipython>=1.0->ipython-sql) (0.1.2)\nRequirement already satisfied: decorator in /opt/conda/envs/Python-3.9/lib/python3.9/site-packages (from ipython>=1.0->ipython-sql) (5.1.0)\nRequirement already satisfied: jedi>=0.16 in /opt/conda/envs/Python-3.9/lib/python3.9/site-packages (from ipython>=1.0->ipython-sql) (0.18.0)\nRequirement already satisfied: pexpect>4.3 in /opt/conda/envs/Python-3.9/lib/python3.9/site-packages (from ipython>=1.0->ipython-sql) (4.8.0)\nRequirement already satisfied: parso<0.9.0,>=0.8.0 in /opt/conda/envs/Python-3.9/lib/python3.9/site-packages (from jedi>=0.16->ipython>=1.0->ipython-sql) (0.8.3)\nRequirement already satisfied: ptyprocess>=0.5 in /opt/conda/envs/Python-3.9/lib/python3.9/site-packages (from pexpect>4.3->ipython>=1.0->ipython-sql) (0.7.0)\nRequirement already satisfied: wcwidth in /opt/conda/envs/Python-3.9/lib/python3.9/site-packages (from prompt-toolkit!=3.0.0,!=3.0.1,<3.1.0,>=2.0.0->ipython>=1.0->ipython-sql) (0.2.5)\nBuilding wheels for collected packages: prettytable\n  Building wheel for prettytable (setup.py) ... \u001b[?25ldone\n\u001b[?25h  Created wheel for prettytable: filename=prettytable-0.7.2-py3-none-any.whl size=13714 sha256=406cb12d08ea58eb3c0e75f0a850a07a5af7fb4c82e7de4c7f7cb5b45af13aa2\n  Stored in directory: /tmp/wsuser/.cache/pip/wheels/75/f7/28/77a076f1fa8cbeda61aca712815d04d7a32435f04a26a2dd7b\nSuccessfully built prettytable\nInstalling collected packages: sqlparse, prettytable, ipython-sql\nSuccessfully installed ipython-sql-0.4.1 prettytable-0.7.2 sqlparse-0.4.2\n"
                }
            ],
            "source": "!pip install sqlalchemy==1.3.9\n!pip install ibm_db_sa\n!pip install ipython-sql"
        },
        {
            "cell_type": "markdown",
            "metadata": {},
            "source": "### Connect to the database\n\nLet us first load the SQL extension and establish a connection with the database\n"
        },
        {
            "cell_type": "code",
            "execution_count": 2,
            "metadata": {},
            "outputs": [],
            "source": "%load_ext sql"
        },
        {
            "cell_type": "markdown",
            "metadata": {},
            "source": "**DB2 magic in case of old UI service credentials.**\n\nIn the next cell enter your db2 connection string. Recall you created Service Credentials for your Db2 instance before. From the **uri** field of your Db2 service credentials copy everything after db2:// (except the double quote at the end) and paste it in the cell below after ibm_db_sa://\n\n<img src =\"https://cf-courses-data.s3.us.cloud-object-storage.appdomain.cloud/IBMDeveloperSkillsNetwork-DB0201EN-SkillsNetwork/labs/FinalModule_edX/images/URI.jpg\">\n\nin the following format\n\n**%sql ibm_db_sa://my-username:my-password\\@my-hostname:my-port/my-db-name**\n\n**DB2 magic in case of new UI service credentials.**\n\n<img src =\"https://cf-courses-data.s3.us.cloud-object-storage.appdomain.cloud/IBM-DS0321EN-SkillsNetwork/labs/module_2/images/servicecredentials.png\" width=600>  \n\n*   Use the following format.\n\n*   Add security=SSL at the end\n\n**%sql ibm_db_sa://my-username:my-password\\@my-hostname:my-port/my-db-name?security=SSL**\n"
        },
        {
            "cell_type": "code",
            "execution_count": 20,
            "metadata": {},
            "outputs": [],
            "source": "import csv, sqlite3\n\ncon = sqlite3.connect(\"my_data1.db\")\ncur = con.cursor()"
        },
        {
            "cell_type": "code",
            "execution_count": 4,
            "metadata": {},
            "outputs": [],
            "source": "!pip install -q pandas==1.1.5"
        },
        {
            "cell_type": "code",
            "execution_count": 5,
            "metadata": {},
            "outputs": [],
            "source": "%sql sqlite:///my_data1.db"
        },
        {
            "cell_type": "code",
            "execution_count": 6,
            "metadata": {},
            "outputs": [
                {
                    "name": "stderr",
                    "output_type": "stream",
                    "text": "/opt/conda/envs/Python-3.9/lib/python3.9/site-packages/pandas/core/generic.py:2872: UserWarning: The spaces in these column names will not be changed. In pandas versions < 0.14, spaces were converted to underscores.\n  Write row names (index).\n"
                }
            ],
            "source": "import pandas as pd\ndf = pd.read_csv(r\"https://cf-courses-data.s3.us.cloud-object-storage.appdomain.cloud/IBM-DS0321EN-SkillsNetwork/labs/module_2/data/Spacex.csv\")\ndf.to_sql(\"SPACEXTBL\", con, if_exists='replace', index=False,method=\"multi\")"
        },
        {
            "cell_type": "markdown",
            "metadata": {},
            "source": "## Tasks\n\nNow write and execute SQL queries to solve the assignment tasks.\n\n### Task 1\n\n##### Display the names of the unique launch sites  in the space mission\n"
        },
        {
            "cell_type": "code",
            "execution_count": 7,
            "metadata": {},
            "outputs": [
                {
                    "name": "stdout",
                    "output_type": "stream",
                    "text": " * sqlite:///my_data1.db\nDone.\n"
                },
                {
                    "data": {
                        "text/html": "<table>\n    <tr>\n        <th>Launch_Site</th>\n    </tr>\n    <tr>\n        <td>CCAFS LC-40</td>\n    </tr>\n    <tr>\n        <td>CCAFS SLC-40</td>\n    </tr>\n    <tr>\n        <td>KSC LC-39A</td>\n    </tr>\n    <tr>\n        <td>VAFB SLC-4E</td>\n    </tr>\n</table>",
                        "text/plain": "[('CCAFS LC-40',), ('CCAFS SLC-40',), ('KSC LC-39A',), ('VAFB SLC-4E',)]"
                    },
                    "execution_count": 7,
                    "metadata": {},
                    "output_type": "execute_result"
                }
            ],
            "source": "%sql SELECT DISTINCT(LAUNCH_SITE) from SPACEXTBL order by LAUNCH_SITE ASC; "
        },
        {
            "cell_type": "markdown",
            "metadata": {},
            "source": "### Task 2\n\n##### Display 5 records where launch sites begin with the string 'CCA'\n"
        },
        {
            "cell_type": "code",
            "execution_count": 8,
            "metadata": {},
            "outputs": [
                {
                    "name": "stdout",
                    "output_type": "stream",
                    "text": " * sqlite:///my_data1.db\nDone.\n"
                },
                {
                    "data": {
                        "text/html": "<table>\n    <tr>\n        <th>Date</th>\n        <th>Time (UTC)</th>\n        <th>Booster_Version</th>\n        <th>Launch_Site</th>\n        <th>Payload</th>\n        <th>PAYLOAD_MASS__KG_</th>\n        <th>Orbit</th>\n        <th>Customer</th>\n        <th>Mission_Outcome</th>\n        <th>Landing _Outcome</th>\n    </tr>\n    <tr>\n        <td>04-06-2010</td>\n        <td>18:45:00</td>\n        <td>F9 v1.0  B0003</td>\n        <td>CCAFS LC-40</td>\n        <td>Dragon Spacecraft Qualification Unit</td>\n        <td>0</td>\n        <td>LEO</td>\n        <td>SpaceX</td>\n        <td>Success</td>\n        <td>Failure (parachute)</td>\n    </tr>\n    <tr>\n        <td>08-12-2010</td>\n        <td>15:43:00</td>\n        <td>F9 v1.0  B0004</td>\n        <td>CCAFS LC-40</td>\n        <td>Dragon demo flight C1, two CubeSats, barrel of Brouere cheese</td>\n        <td>0</td>\n        <td>LEO (ISS)</td>\n        <td>NASA (COTS) NRO</td>\n        <td>Success</td>\n        <td>Failure (parachute)</td>\n    </tr>\n    <tr>\n        <td>22-05-2012</td>\n        <td>07:44:00</td>\n        <td>F9 v1.0  B0005</td>\n        <td>CCAFS LC-40</td>\n        <td>Dragon demo flight C2</td>\n        <td>525</td>\n        <td>LEO (ISS)</td>\n        <td>NASA (COTS)</td>\n        <td>Success</td>\n        <td>No attempt</td>\n    </tr>\n    <tr>\n        <td>08-10-2012</td>\n        <td>00:35:00</td>\n        <td>F9 v1.0  B0006</td>\n        <td>CCAFS LC-40</td>\n        <td>SpaceX CRS-1</td>\n        <td>500</td>\n        <td>LEO (ISS)</td>\n        <td>NASA (CRS)</td>\n        <td>Success</td>\n        <td>No attempt</td>\n    </tr>\n    <tr>\n        <td>01-03-2013</td>\n        <td>15:10:00</td>\n        <td>F9 v1.0  B0007</td>\n        <td>CCAFS LC-40</td>\n        <td>SpaceX CRS-2</td>\n        <td>677</td>\n        <td>LEO (ISS)</td>\n        <td>NASA (CRS)</td>\n        <td>Success</td>\n        <td>No attempt</td>\n    </tr>\n</table>",
                        "text/plain": "[('04-06-2010', '18:45:00', 'F9 v1.0  B0003', 'CCAFS LC-40', 'Dragon Spacecraft Qualification Unit', 0, 'LEO', 'SpaceX', 'Success', 'Failure (parachute)'),\n ('08-12-2010', '15:43:00', 'F9 v1.0  B0004', 'CCAFS LC-40', 'Dragon demo flight C1, two CubeSats, barrel of Brouere cheese', 0, 'LEO (ISS)', 'NASA (COTS) NRO', 'Success', 'Failure (parachute)'),\n ('22-05-2012', '07:44:00', 'F9 v1.0  B0005', 'CCAFS LC-40', 'Dragon demo flight C2', 525, 'LEO (ISS)', 'NASA (COTS)', 'Success', 'No attempt'),\n ('08-10-2012', '00:35:00', 'F9 v1.0  B0006', 'CCAFS LC-40', 'SpaceX CRS-1', 500, 'LEO (ISS)', 'NASA (CRS)', 'Success', 'No attempt'),\n ('01-03-2013', '15:10:00', 'F9 v1.0  B0007', 'CCAFS LC-40', 'SpaceX CRS-2', 677, 'LEO (ISS)', 'NASA (CRS)', 'Success', 'No attempt')]"
                    },
                    "execution_count": 8,
                    "metadata": {},
                    "output_type": "execute_result"
                }
            ],
            "source": "%sql select * from SPACEXTBL where LAUNCH_SITE like 'CCA%' limit(5);"
        },
        {
            "cell_type": "markdown",
            "metadata": {},
            "source": "### Task 3\n\n##### Display the total payload mass carried by boosters launched by NASA (CRS)\n"
        },
        {
            "cell_type": "code",
            "execution_count": 9,
            "metadata": {},
            "outputs": [
                {
                    "name": "stdout",
                    "output_type": "stream",
                    "text": " * sqlite:///my_data1.db\nDone.\n"
                },
                {
                    "data": {
                        "text/html": "<table>\n    <tr>\n        <th>sum (PAYLOAD_MASS__KG_)</th>\n    </tr>\n    <tr>\n        <td>45596</td>\n    </tr>\n</table>",
                        "text/plain": "[(45596,)]"
                    },
                    "execution_count": 9,
                    "metadata": {},
                    "output_type": "execute_result"
                }
            ],
            "source": "%sql select sum (PAYLOAD_MASS__KG_) from SPACEXTBL where Customer ='NASA (CRS)';"
        },
        {
            "cell_type": "markdown",
            "metadata": {},
            "source": "### Task 4\n\n##### Display average payload mass carried by booster version F9 v1.1\n"
        },
        {
            "cell_type": "code",
            "execution_count": 10,
            "metadata": {},
            "outputs": [
                {
                    "name": "stdout",
                    "output_type": "stream",
                    "text": " * sqlite:///my_data1.db\nDone.\n"
                },
                {
                    "data": {
                        "text/html": "<table>\n    <tr>\n        <th>avg(PAYLOAD_MASS__KG_)</th>\n    </tr>\n    <tr>\n        <td>2928.4</td>\n    </tr>\n</table>",
                        "text/plain": "[(2928.4,)]"
                    },
                    "execution_count": 10,
                    "metadata": {},
                    "output_type": "execute_result"
                }
            ],
            "source": "%sql select avg(PAYLOAD_MASS__KG_) from SPACEXTBL where Booster_Version ='F9 v1.1';"
        },
        {
            "cell_type": "markdown",
            "metadata": {},
            "source": "### Task 5\n\n##### List the date when the first successful landing outcome in ground pad was acheived.\n\n*Hint:Use min function*\n"
        },
        {
            "cell_type": "code",
            "execution_count": 11,
            "metadata": {},
            "outputs": [
                {
                    "name": "stdout",
                    "output_type": "stream",
                    "text": " * sqlite:///my_data1.db\nDone.\n"
                },
                {
                    "data": {
                        "text/html": "<table>\n    <tr>\n        <th>min(Date)</th>\n    </tr>\n    <tr>\n        <td>01-05-2017</td>\n    </tr>\n</table>",
                        "text/plain": "[('01-05-2017',)]"
                    },
                    "execution_count": 11,
                    "metadata": {},
                    "output_type": "execute_result"
                }
            ],
            "source": "%sql select min(Date) from SPACEXTBL where [Landing _Outcome] = 'Success (ground pad)';"
        },
        {
            "cell_type": "markdown",
            "metadata": {},
            "source": "### Task 6\n\n##### List the names of the boosters which have success in drone ship and have payload mass greater than 4000 but less than 6000\n"
        },
        {
            "cell_type": "code",
            "execution_count": 12,
            "metadata": {},
            "outputs": [
                {
                    "name": "stdout",
                    "output_type": "stream",
                    "text": " * sqlite:///my_data1.db\n(sqlite3.OperationalError) no such column: Boo\n[SQL: select Booster_Version from SPACEXTBL where [Landing _Outcome] = 'Success (drone ship)' and PAYLOAD_MASS__KG_ > 4000 and PAYLOAD_MASS__KG_ <6000 order by Boo]\n(Background on this error at: http://sqlalche.me/e/e3q8)\n"
                }
            ],
            "source": "%sql select Booster_Version from SPACEXTBL where [Landing _Outcome] = 'Success (drone ship)' and PAYLOAD_MASS__KG_ > 4000 and PAYLOAD_MASS__KG_ <6000 order by Boo"
        },
        {
            "cell_type": "markdown",
            "metadata": {},
            "source": "### Task 7\n\n##### List the total number of successful and failure mission outcomes\n"
        },
        {
            "cell_type": "code",
            "execution_count": 13,
            "metadata": {},
            "outputs": [
                {
                    "name": "stdout",
                    "output_type": "stream",
                    "text": " * sqlite:///my_data1.db\nDone.\n"
                },
                {
                    "data": {
                        "text/html": "<table>\n    <tr>\n        <th>count(Mission_Outcome)</th>\n    </tr>\n    <tr>\n        <td>100</td>\n    </tr>\n</table>",
                        "text/plain": "[(100,)]"
                    },
                    "execution_count": 13,
                    "metadata": {},
                    "output_type": "execute_result"
                }
            ],
            "source": "%sql select count(Mission_Outcome) from SPACEXTBL where Mission_Outcome like '%Success%';"
        },
        {
            "cell_type": "code",
            "execution_count": 15,
            "metadata": {},
            "outputs": [
                {
                    "name": "stdout",
                    "output_type": "stream",
                    "text": " * sqlite:///my_data1.db\nDone.\n"
                },
                {
                    "data": {
                        "text/html": "<table>\n    <tr>\n        <th>count(Mission_Outcome)</th>\n    </tr>\n    <tr>\n        <td>1</td>\n    </tr>\n</table>",
                        "text/plain": "[(1,)]"
                    },
                    "execution_count": 15,
                    "metadata": {},
                    "output_type": "execute_result"
                }
            ],
            "source": "%sql select count(Mission_Outcome) from SPACEXTBL where Mission_Outcome like'%Failure%';"
        },
        {
            "cell_type": "markdown",
            "metadata": {},
            "source": "### Task 8\n\n##### List the   names of the booster_versions which have carried the maximum payload mass. Use a subquery\n"
        },
        {
            "cell_type": "code",
            "execution_count": 16,
            "metadata": {},
            "outputs": [
                {
                    "name": "stdout",
                    "output_type": "stream",
                    "text": " * sqlite:///my_data1.db\nDone.\n"
                },
                {
                    "data": {
                        "text/html": "<table>\n    <tr>\n        <th>Booster_Version</th>\n    </tr>\n    <tr>\n        <td>F9 B5 B1048.4</td>\n    </tr>\n    <tr>\n        <td>F9 B5 B1048.5</td>\n    </tr>\n    <tr>\n        <td>F9 B5 B1049.4</td>\n    </tr>\n    <tr>\n        <td>F9 B5 B1049.5</td>\n    </tr>\n    <tr>\n        <td>F9 B5 B1049.7 </td>\n    </tr>\n    <tr>\n        <td>F9 B5 B1051.3</td>\n    </tr>\n    <tr>\n        <td>F9 B5 B1051.4</td>\n    </tr>\n    <tr>\n        <td>F9 B5 B1051.6</td>\n    </tr>\n    <tr>\n        <td>F9 B5 B1056.4</td>\n    </tr>\n    <tr>\n        <td>F9 B5 B1058.3 </td>\n    </tr>\n    <tr>\n        <td>F9 B5 B1060.2 </td>\n    </tr>\n    <tr>\n        <td>F9 B5 B1060.3</td>\n    </tr>\n</table>",
                        "text/plain": "[('F9 B5 B1048.4',),\n ('F9 B5 B1048.5',),\n ('F9 B5 B1049.4',),\n ('F9 B5 B1049.5',),\n ('F9 B5 B1049.7 ',),\n ('F9 B5 B1051.3',),\n ('F9 B5 B1051.4',),\n ('F9 B5 B1051.6',),\n ('F9 B5 B1056.4',),\n ('F9 B5 B1058.3 ',),\n ('F9 B5 B1060.2 ',),\n ('F9 B5 B1060.3',)]"
                    },
                    "execution_count": 16,
                    "metadata": {},
                    "output_type": "execute_result"
                }
            ],
            "source": "%sql select Booster_Version from SPACEXTBL where PAYLOAD_MASS__KG_ = (select max (PAYLOAD_MASS__KG_) from SPACEXTBL) order by Booster_Version ASC;   "
        },
        {
            "cell_type": "markdown",
            "metadata": {},
            "source": "### Task 9\n\n##### List the failed landing_outcomes in drone ship, their booster versions, and launch site names for in year 2015\n"
        },
        {
            "cell_type": "code",
            "execution_count": 17,
            "metadata": {},
            "outputs": [
                {
                    "name": "stdout",
                    "output_type": "stream",
                    "text": " * sqlite:///my_data1.db\n(sqlite3.OperationalError) unrecognized token: \"[\"\n[SQL: select substr(Date, 4, 2) as Month , substr(Date, 7, 4) as Year, Date, Mission_Outcome, [Landing _Outcome], Booster_Version, Launch_Site from SPACEXTBL where []\n(Background on this error at: http://sqlalche.me/e/e3q8)\n"
                }
            ],
            "source": "%sql select substr(Date, 4, 2) as Month , substr(Date, 7, 4) as Year, Date, Mission_Outcome, [Landing _Outcome], Booster_Version, Launch_Site from SPACEXTBL where ["
        },
        {
            "cell_type": "code",
            "execution_count": 18,
            "metadata": {},
            "outputs": [
                {
                    "name": "stdout",
                    "output_type": "stream",
                    "text": " * sqlite:///my_data1.db\nDone.\n"
                },
                {
                    "data": {
                        "text/html": "<table>\n    <tr>\n        <th>Booster_Version</th>\n        <th>Launch_Site</th>\n        <th>Landing _Outcome</th>\n        <th>Month</th>\n    </tr>\n    <tr>\n        <td>F9 v1.0  B0003</td>\n        <td>CCAFS LC-40</td>\n        <td>Failure (parachute)</td>\n        <td>06</td>\n    </tr>\n    <tr>\n        <td>F9 v1.0  B0004</td>\n        <td>CCAFS LC-40</td>\n        <td>Failure (parachute)</td>\n        <td>12</td>\n    </tr>\n    <tr>\n        <td>F9 v1.0  B0005</td>\n        <td>CCAFS LC-40</td>\n        <td>No attempt</td>\n        <td>05</td>\n    </tr>\n    <tr>\n        <td>F9 v1.0  B0006</td>\n        <td>CCAFS LC-40</td>\n        <td>No attempt</td>\n        <td>10</td>\n    </tr>\n    <tr>\n        <td>F9 v1.0  B0007</td>\n        <td>CCAFS LC-40</td>\n        <td>No attempt</td>\n        <td>03</td>\n    </tr>\n    <tr>\n        <td>F9 v1.1  B1003</td>\n        <td>VAFB SLC-4E</td>\n        <td>Uncontrolled (ocean)</td>\n        <td>09</td>\n    </tr>\n    <tr>\n        <td>F9 v1.1</td>\n        <td>CCAFS LC-40</td>\n        <td>No attempt</td>\n        <td>12</td>\n    </tr>\n    <tr>\n        <td>F9 v1.1</td>\n        <td>CCAFS LC-40</td>\n        <td>No attempt</td>\n        <td>01</td>\n    </tr>\n    <tr>\n        <td>F9 v1.1</td>\n        <td>CCAFS LC-40</td>\n        <td>Controlled (ocean)</td>\n        <td>04</td>\n    </tr>\n    <tr>\n        <td>F9 v1.1</td>\n        <td>CCAFS LC-40</td>\n        <td>Controlled (ocean)</td>\n        <td>07</td>\n    </tr>\n    <tr>\n        <td>F9 v1.1</td>\n        <td>CCAFS LC-40</td>\n        <td>No attempt</td>\n        <td>08</td>\n    </tr>\n    <tr>\n        <td>F9 v1.1 B1011</td>\n        <td>CCAFS LC-40</td>\n        <td>No attempt</td>\n        <td>09</td>\n    </tr>\n    <tr>\n        <td>F9 v1.1 B1010</td>\n        <td>CCAFS LC-40</td>\n        <td>Uncontrolled (ocean)</td>\n        <td>09</td>\n    </tr>\n    <tr>\n        <td>F9 v1.1 B1012</td>\n        <td>CCAFS LC-40</td>\n        <td>Failure (drone ship)</td>\n        <td>01</td>\n    </tr>\n    <tr>\n        <td>F9 v1.1 B1013</td>\n        <td>CCAFS LC-40</td>\n        <td>Controlled (ocean)</td>\n        <td>02</td>\n    </tr>\n    <tr>\n        <td>F9 v1.1 B1014</td>\n        <td>CCAFS LC-40</td>\n        <td>No attempt</td>\n        <td>03</td>\n    </tr>\n    <tr>\n        <td>F9 v1.1 B1015</td>\n        <td>CCAFS LC-40</td>\n        <td>Failure (drone ship)</td>\n        <td>04</td>\n    </tr>\n    <tr>\n        <td>F9 v1.1 B1016</td>\n        <td>CCAFS LC-40</td>\n        <td>No attempt</td>\n        <td>04</td>\n    </tr>\n    <tr>\n        <td>F9 v1.1 B1018</td>\n        <td>CCAFS LC-40</td>\n        <td>Precluded (drone ship)</td>\n        <td>06</td>\n    </tr>\n    <tr>\n        <td>F9 FT B1019</td>\n        <td>CCAFS LC-40</td>\n        <td>Success (ground pad)</td>\n        <td>12</td>\n    </tr>\n    <tr>\n        <td>F9 v1.1 B1017</td>\n        <td>VAFB SLC-4E</td>\n        <td>Failure (drone ship)</td>\n        <td>01</td>\n    </tr>\n    <tr>\n        <td>F9 FT B1020</td>\n        <td>CCAFS LC-40</td>\n        <td>Failure (drone ship)</td>\n        <td>03</td>\n    </tr>\n    <tr>\n        <td>F9 FT B1021.1</td>\n        <td>CCAFS LC-40</td>\n        <td>Success (drone ship)</td>\n        <td>04</td>\n    </tr>\n    <tr>\n        <td>F9 FT B1022</td>\n        <td>CCAFS LC-40</td>\n        <td>Success (drone ship)</td>\n        <td>05</td>\n    </tr>\n    <tr>\n        <td>F9 FT B1023.1</td>\n        <td>CCAFS LC-40</td>\n        <td>Success (drone ship)</td>\n        <td>05</td>\n    </tr>\n    <tr>\n        <td>F9 FT B1024</td>\n        <td>CCAFS LC-40</td>\n        <td>Failure (drone ship)</td>\n        <td>06</td>\n    </tr>\n    <tr>\n        <td>F9 FT B1025.1</td>\n        <td>CCAFS LC-40</td>\n        <td>Success (ground pad)</td>\n        <td>07</td>\n    </tr>\n    <tr>\n        <td>F9 FT B1026</td>\n        <td>CCAFS LC-40</td>\n        <td>Success (drone ship)</td>\n        <td>08</td>\n    </tr>\n    <tr>\n        <td>F9 FT B1029.1</td>\n        <td>VAFB SLC-4E</td>\n        <td>Success (drone ship)</td>\n        <td>01</td>\n    </tr>\n    <tr>\n        <td>F9 FT B1031.1</td>\n        <td>KSC LC-39A</td>\n        <td>Success (ground pad)</td>\n        <td>02</td>\n    </tr>\n    <tr>\n        <td>F9 FT B1030</td>\n        <td>KSC LC-39A</td>\n        <td>No attempt</td>\n        <td>03</td>\n    </tr>\n    <tr>\n        <td>F9 FT  B1021.2</td>\n        <td>KSC LC-39A</td>\n        <td>Success (drone ship)</td>\n        <td>03</td>\n    </tr>\n    <tr>\n        <td>F9 FT B1032.1</td>\n        <td>KSC LC-39A</td>\n        <td>Success (ground pad)</td>\n        <td>05</td>\n    </tr>\n    <tr>\n        <td>F9 FT B1034</td>\n        <td>KSC LC-39A</td>\n        <td>No attempt</td>\n        <td>05</td>\n    </tr>\n    <tr>\n        <td>F9 FT B1035.1</td>\n        <td>KSC LC-39A</td>\n        <td>Success (ground pad)</td>\n        <td>06</td>\n    </tr>\n    <tr>\n        <td>F9 FT  B1029.2</td>\n        <td>KSC LC-39A</td>\n        <td>Success (drone ship)</td>\n        <td>06</td>\n    </tr>\n    <tr>\n        <td>F9 FT B1036.1</td>\n        <td>VAFB SLC-4E</td>\n        <td>Success (drone ship)</td>\n        <td>06</td>\n    </tr>\n    <tr>\n        <td>F9 FT B1037</td>\n        <td>KSC LC-39A</td>\n        <td>No attempt</td>\n        <td>07</td>\n    </tr>\n    <tr>\n        <td>F9 B4 B1039.1</td>\n        <td>KSC LC-39A</td>\n        <td>Success (ground pad)</td>\n        <td>08</td>\n    </tr>\n    <tr>\n        <td>F9 FT B1038.1</td>\n        <td>VAFB SLC-4E</td>\n        <td>Success (drone ship)</td>\n        <td>08</td>\n    </tr>\n    <tr>\n        <td>F9 B4 B1040.1</td>\n        <td>KSC LC-39A</td>\n        <td>Success (ground pad)</td>\n        <td>09</td>\n    </tr>\n    <tr>\n        <td>F9 B4 B1041.1</td>\n        <td>VAFB SLC-4E</td>\n        <td>Success (drone ship)</td>\n        <td>10</td>\n    </tr>\n    <tr>\n        <td>F9 FT  B1031.2</td>\n        <td>KSC LC-39A</td>\n        <td>Success (drone ship)</td>\n        <td>10</td>\n    </tr>\n    <tr>\n        <td>F9 B4 B1042.1</td>\n        <td>KSC LC-39A</td>\n        <td>Success (drone ship)</td>\n        <td>10</td>\n    </tr>\n    <tr>\n        <td>F9 FT  B1035.2</td>\n        <td>CCAFS SLC-40</td>\n        <td>Success (ground pad)</td>\n        <td>12</td>\n    </tr>\n    <tr>\n        <td>F9 FT  B1036.2</td>\n        <td>VAFB SLC-4E</td>\n        <td>Controlled (ocean)</td>\n        <td>12</td>\n    </tr>\n    <tr>\n        <td>F9 B4 B1043.1</td>\n        <td>CCAFS SLC-40</td>\n        <td>Success (ground pad)</td>\n        <td>01</td>\n    </tr>\n    <tr>\n        <td>F9 FT  B1032.2</td>\n        <td>CCAFS SLC-40</td>\n        <td>Controlled (ocean)</td>\n        <td>01</td>\n    </tr>\n    <tr>\n        <td>F9 FT  B1038.2</td>\n        <td>VAFB SLC-4E</td>\n        <td>No attempt</td>\n        <td>02</td>\n    </tr>\n    <tr>\n        <td>F9 B4 B1044</td>\n        <td>CCAFS SLC-40</td>\n        <td>No attempt</td>\n        <td>03</td>\n    </tr>\n    <tr>\n        <td>F9 B4  B1041.2</td>\n        <td>VAFB SLC-4E</td>\n        <td>No attempt</td>\n        <td>03</td>\n    </tr>\n    <tr>\n        <td>F9 B4  B1039.2</td>\n        <td>CCAFS SLC-40</td>\n        <td>No attempt</td>\n        <td>04</td>\n    </tr>\n    <tr>\n        <td>F9 B4 B1045.1</td>\n        <td>CCAFS SLC-40</td>\n        <td>Success (drone ship)</td>\n        <td>04</td>\n    </tr>\n    <tr>\n        <td>F9 B5  B1046.1</td>\n        <td>KSC LC-39A</td>\n        <td>Success (drone ship)</td>\n        <td>05</td>\n    </tr>\n    <tr>\n        <td>F9 B4  B1043.2</td>\n        <td>VAFB SLC-4E</td>\n        <td>No attempt</td>\n        <td>05</td>\n    </tr>\n    <tr>\n        <td>F9 B4  B1040.2</td>\n        <td>CCAFS SLC-40</td>\n        <td>No attempt</td>\n        <td>06</td>\n    </tr>\n    <tr>\n        <td>F9 B4 B1045.2</td>\n        <td>CCAFS SLC-40</td>\n        <td>No attempt</td>\n        <td>06</td>\n    </tr>\n    <tr>\n        <td>F9 B5B1047.1</td>\n        <td>CCAFS SLC-40</td>\n        <td>Success</td>\n        <td>07</td>\n    </tr>\n    <tr>\n        <td>F9 B5B1048.1</td>\n        <td>VAFB SLC-4E</td>\n        <td>Success</td>\n        <td>07</td>\n    </tr>\n    <tr>\n        <td>F9 B5 B1046.2</td>\n        <td>CCAFS SLC-40</td>\n        <td>Success</td>\n        <td>08</td>\n    </tr>\n    <tr>\n        <td>F9 B5B1049.1</td>\n        <td>CCAFS SLC-40</td>\n        <td>Success</td>\n        <td>09</td>\n    </tr>\n    <tr>\n        <td>F9 B5 B1048.2</td>\n        <td>VAFB SLC-4E</td>\n        <td>Success</td>\n        <td>10</td>\n    </tr>\n    <tr>\n        <td>F9 B5 B1047.2</td>\n        <td>KSC LC-39A</td>\n        <td>Success</td>\n        <td>11</td>\n    </tr>\n    <tr>\n        <td>F9 B5 B1046.3</td>\n        <td>VAFB SLC-4E</td>\n        <td>Success</td>\n        <td>12</td>\n    </tr>\n    <tr>\n        <td>F9 B5B1050</td>\n        <td>CCAFS SLC-40</td>\n        <td>Failure</td>\n        <td>12</td>\n    </tr>\n    <tr>\n        <td>F9 B5B1054</td>\n        <td>CCAFS SLC-40</td>\n        <td>No attempt</td>\n        <td>12</td>\n    </tr>\n    <tr>\n        <td>F9 B5 B1049.2</td>\n        <td>VAFB SLC-4E</td>\n        <td>Success</td>\n        <td>01</td>\n    </tr>\n    <tr>\n        <td>F9 B5 B1048.3</td>\n        <td>CCAFS SLC-40</td>\n        <td>Success</td>\n        <td>02</td>\n    </tr>\n    <tr>\n        <td>F9 B5B1051.1</td>\n        <td>KSC LC-39A</td>\n        <td>Success</td>\n        <td>03</td>\n    </tr>\n    <tr>\n        <td>F9 B5B1056.1 </td>\n        <td>CCAFS SLC-40</td>\n        <td>Success</td>\n        <td>05</td>\n    </tr>\n    <tr>\n        <td>F9 B5 B1049.3</td>\n        <td>CCAFS SLC-40</td>\n        <td>Success</td>\n        <td>05</td>\n    </tr>\n    <tr>\n        <td>F9 B5 B1051.2 </td>\n        <td>VAFB SLC-4E</td>\n        <td>Success</td>\n        <td>06</td>\n    </tr>\n    <tr>\n        <td>F9 B5 B1056.2 </td>\n        <td>CCAFS SLC-40</td>\n        <td>Success</td>\n        <td>07</td>\n    </tr>\n    <tr>\n        <td>F9 B5 B1047.3 </td>\n        <td>CCAFS SLC-40</td>\n        <td>No attempt </td>\n        <td>08</td>\n    </tr>\n    <tr>\n        <td>F9 B5 B1048.4</td>\n        <td>CCAFS SLC-40</td>\n        <td>Success</td>\n        <td>11</td>\n    </tr>\n    <tr>\n        <td>F9 B5B1059.1</td>\n        <td>CCAFS SLC-40</td>\n        <td>Success</td>\n        <td>12</td>\n    </tr>\n    <tr>\n        <td>F9 B5 B1056.3 </td>\n        <td>CCAFS SLC-40</td>\n        <td>Success</td>\n        <td>12</td>\n    </tr>\n    <tr>\n        <td>F9 B5 B1049.4</td>\n        <td>CCAFS SLC-40</td>\n        <td>Success</td>\n        <td>01</td>\n    </tr>\n    <tr>\n        <td>F9 B5 B1046.4</td>\n        <td>KSC LC-39A</td>\n        <td>No attempt</td>\n        <td>01</td>\n    </tr>\n    <tr>\n        <td>F9 B5 B1051.3</td>\n        <td>CCAFS SLC-40</td>\n        <td>Success</td>\n        <td>01</td>\n    </tr>\n    <tr>\n        <td>F9 B5 B1056.4</td>\n        <td>CCAFS SLC-40</td>\n        <td>Failure</td>\n        <td>02</td>\n    </tr>\n    <tr>\n        <td>F9 B5 B1059.2</td>\n        <td>CCAFS SLC-40</td>\n        <td>Success</td>\n        <td>03</td>\n    </tr>\n    <tr>\n        <td>F9 B5 B1048.5</td>\n        <td>KSC LC-39A</td>\n        <td>Failure</td>\n        <td>03</td>\n    </tr>\n    <tr>\n        <td>F9 B5 B1051.4</td>\n        <td>KSC LC-39A</td>\n        <td>Success</td>\n        <td>04</td>\n    </tr>\n    <tr>\n        <td>F9 B5B1058.1 </td>\n        <td>KSC LC-39A</td>\n        <td>Success</td>\n        <td>05</td>\n    </tr>\n    <tr>\n        <td>F9 B5 B1049.5</td>\n        <td>CCAFS SLC-40</td>\n        <td>Success</td>\n        <td>06</td>\n    </tr>\n    <tr>\n        <td>F9 B5 B1059.3</td>\n        <td>CCAFS SLC-40</td>\n        <td>Success</td>\n        <td>06</td>\n    </tr>\n    <tr>\n        <td>F9 B5B1060.1</td>\n        <td>CCAFS SLC-40</td>\n        <td>Success</td>\n        <td>06</td>\n    </tr>\n    <tr>\n        <td>F9 B5 B1058.2 </td>\n        <td>CCAFS SLC-40</td>\n        <td>Success</td>\n        <td>07</td>\n    </tr>\n    <tr>\n        <td>F9 B5 B1051.5</td>\n        <td>KSC LC-39A</td>\n        <td>Success</td>\n        <td>08</td>\n    </tr>\n    <tr>\n        <td>F9 B5 B1049.6</td>\n        <td>CCAFS SLC-40</td>\n        <td>Success</td>\n        <td>08</td>\n    </tr>\n    <tr>\n        <td>F9 B5 B1059.4</td>\n        <td>CCAFS SLC-40</td>\n        <td>Success</td>\n        <td>08</td>\n    </tr>\n    <tr>\n        <td>F9 B5 B1060.2 </td>\n        <td>KSC LC-39A</td>\n        <td>Success</td>\n        <td>09</td>\n    </tr>\n    <tr>\n        <td>F9 B5 B1058.3 </td>\n        <td>KSC LC-39A</td>\n        <td>Success</td>\n        <td>10</td>\n    </tr>\n    <tr>\n        <td>F9 B5 B1051.6</td>\n        <td>KSC LC-39A</td>\n        <td>Success</td>\n        <td>10</td>\n    </tr>\n    <tr>\n        <td>F9 B5 B1060.3</td>\n        <td>CCAFS SLC-40</td>\n        <td>Success</td>\n        <td>10</td>\n    </tr>\n    <tr>\n        <td>F9 B5B1062.1</td>\n        <td>CCAFS SLC-40</td>\n        <td>Success</td>\n        <td>11</td>\n    </tr>\n    <tr>\n        <td>F9 B5B1061.1 </td>\n        <td>KSC LC-39A</td>\n        <td>Success</td>\n        <td>11</td>\n    </tr>\n    <tr>\n        <td>F9 B5B1063.1</td>\n        <td>VAFB SLC-4E</td>\n        <td>Success</td>\n        <td>11</td>\n    </tr>\n    <tr>\n        <td>F9 B5 B1049.7 </td>\n        <td>CCAFS SLC-40</td>\n        <td>Success</td>\n        <td>11</td>\n    </tr>\n    <tr>\n        <td>F9 B5 B1058.4 </td>\n        <td>KSC LC-39A</td>\n        <td>Success</td>\n        <td>12</td>\n    </tr>\n</table>",
                        "text/plain": "[('F9 v1.0  B0003', 'CCAFS LC-40', 'Failure (parachute)', '06'),\n ('F9 v1.0  B0004', 'CCAFS LC-40', 'Failure (parachute)', '12'),\n ('F9 v1.0  B0005', 'CCAFS LC-40', 'No attempt', '05'),\n ('F9 v1.0  B0006', 'CCAFS LC-40', 'No attempt', '10'),\n ('F9 v1.0  B0007', 'CCAFS LC-40', 'No attempt', '03'),\n ('F9 v1.1  B1003', 'VAFB SLC-4E', 'Uncontrolled (ocean)', '09'),\n ('F9 v1.1', 'CCAFS LC-40', 'No attempt', '12'),\n ('F9 v1.1', 'CCAFS LC-40', 'No attempt', '01'),\n ('F9 v1.1', 'CCAFS LC-40', 'Controlled (ocean)', '04'),\n ('F9 v1.1', 'CCAFS LC-40', 'Controlled (ocean)', '07'),\n ('F9 v1.1', 'CCAFS LC-40', 'No attempt', '08'),\n ('F9 v1.1 B1011', 'CCAFS LC-40', 'No attempt', '09'),\n ('F9 v1.1 B1010', 'CCAFS LC-40', 'Uncontrolled (ocean)', '09'),\n ('F9 v1.1 B1012', 'CCAFS LC-40', 'Failure (drone ship)', '01'),\n ('F9 v1.1 B1013', 'CCAFS LC-40', 'Controlled (ocean)', '02'),\n ('F9 v1.1 B1014', 'CCAFS LC-40', 'No attempt', '03'),\n ('F9 v1.1 B1015', 'CCAFS LC-40', 'Failure (drone ship)', '04'),\n ('F9 v1.1 B1016', 'CCAFS LC-40', 'No attempt', '04'),\n ('F9 v1.1 B1018', 'CCAFS LC-40', 'Precluded (drone ship)', '06'),\n ('F9 FT B1019', 'CCAFS LC-40', 'Success (ground pad)', '12'),\n ('F9 v1.1 B1017', 'VAFB SLC-4E', 'Failure (drone ship)', '01'),\n ('F9 FT B1020', 'CCAFS LC-40', 'Failure (drone ship)', '03'),\n ('F9 FT B1021.1', 'CCAFS LC-40', 'Success (drone ship)', '04'),\n ('F9 FT B1022', 'CCAFS LC-40', 'Success (drone ship)', '05'),\n ('F9 FT B1023.1', 'CCAFS LC-40', 'Success (drone ship)', '05'),\n ('F9 FT B1024', 'CCAFS LC-40', 'Failure (drone ship)', '06'),\n ('F9 FT B1025.1', 'CCAFS LC-40', 'Success (ground pad)', '07'),\n ('F9 FT B1026', 'CCAFS LC-40', 'Success (drone ship)', '08'),\n ('F9 FT B1029.1', 'VAFB SLC-4E', 'Success (drone ship)', '01'),\n ('F9 FT B1031.1', 'KSC LC-39A', 'Success (ground pad)', '02'),\n ('F9 FT B1030', 'KSC LC-39A', 'No attempt', '03'),\n ('F9 FT  B1021.2', 'KSC LC-39A', 'Success (drone ship)', '03'),\n ('F9 FT B1032.1', 'KSC LC-39A', 'Success (ground pad)', '05'),\n ('F9 FT B1034', 'KSC LC-39A', 'No attempt', '05'),\n ('F9 FT B1035.1', 'KSC LC-39A', 'Success (ground pad)', '06'),\n ('F9 FT  B1029.2', 'KSC LC-39A', 'Success (drone ship)', '06'),\n ('F9 FT B1036.1', 'VAFB SLC-4E', 'Success (drone ship)', '06'),\n ('F9 FT B1037', 'KSC LC-39A', 'No attempt', '07'),\n ('F9 B4 B1039.1', 'KSC LC-39A', 'Success (ground pad)', '08'),\n ('F9 FT B1038.1', 'VAFB SLC-4E', 'Success (drone ship)', '08'),\n ('F9 B4 B1040.1', 'KSC LC-39A', 'Success (ground pad)', '09'),\n ('F9 B4 B1041.1', 'VAFB SLC-4E', 'Success (drone ship)', '10'),\n ('F9 FT  B1031.2', 'KSC LC-39A', 'Success (drone ship)', '10'),\n ('F9 B4 B1042.1', 'KSC LC-39A', 'Success (drone ship)', '10'),\n ('F9 FT  B1035.2', 'CCAFS SLC-40', 'Success (ground pad)', '12'),\n ('F9 FT  B1036.2', 'VAFB SLC-4E', 'Controlled (ocean)', '12'),\n ('F9 B4 B1043.1', 'CCAFS SLC-40', 'Success (ground pad)', '01'),\n ('F9 FT  B1032.2', 'CCAFS SLC-40', 'Controlled (ocean)', '01'),\n ('F9 FT  B1038.2', 'VAFB SLC-4E', 'No attempt', '02'),\n ('F9 B4 B1044', 'CCAFS SLC-40', 'No attempt', '03'),\n ('F9 B4  B1041.2', 'VAFB SLC-4E', 'No attempt', '03'),\n ('F9 B4  B1039.2', 'CCAFS SLC-40', 'No attempt', '04'),\n ('F9 B4 B1045.1', 'CCAFS SLC-40', 'Success (drone ship)', '04'),\n ('F9 B5  B1046.1', 'KSC LC-39A', 'Success (drone ship)', '05'),\n ('F9 B4  B1043.2', 'VAFB SLC-4E', 'No attempt', '05'),\n ('F9 B4  B1040.2', 'CCAFS SLC-40', 'No attempt', '06'),\n ('F9 B4 B1045.2', 'CCAFS SLC-40', 'No attempt', '06'),\n ('F9 B5B1047.1', 'CCAFS SLC-40', 'Success', '07'),\n ('F9 B5B1048.1', 'VAFB SLC-4E', 'Success', '07'),\n ('F9 B5 B1046.2', 'CCAFS SLC-40', 'Success', '08'),\n ('F9 B5B1049.1', 'CCAFS SLC-40', 'Success', '09'),\n ('F9 B5 B1048.2', 'VAFB SLC-4E', 'Success', '10'),\n ('F9 B5 B1047.2', 'KSC LC-39A', 'Success', '11'),\n ('F9 B5 B1046.3', 'VAFB SLC-4E', 'Success', '12'),\n ('F9 B5B1050', 'CCAFS SLC-40', 'Failure', '12'),\n ('F9 B5B1054', 'CCAFS SLC-40', 'No attempt', '12'),\n ('F9 B5 B1049.2', 'VAFB SLC-4E', 'Success', '01'),\n ('F9 B5 B1048.3', 'CCAFS SLC-40', 'Success', '02'),\n ('F9 B5B1051.1', 'KSC LC-39A', 'Success', '03'),\n ('F9 B5B1056.1 ', 'CCAFS SLC-40', 'Success', '05'),\n ('F9 B5 B1049.3', 'CCAFS SLC-40', 'Success', '05'),\n ('F9 B5 B1051.2 ', 'VAFB SLC-4E', 'Success', '06'),\n ('F9 B5 B1056.2 ', 'CCAFS SLC-40', 'Success', '07'),\n ('F9 B5 B1047.3 ', 'CCAFS SLC-40', 'No attempt ', '08'),\n ('F9 B5 B1048.4', 'CCAFS SLC-40', 'Success', '11'),\n ('F9 B5B1059.1', 'CCAFS SLC-40', 'Success', '12'),\n ('F9 B5 B1056.3 ', 'CCAFS SLC-40', 'Success', '12'),\n ('F9 B5 B1049.4', 'CCAFS SLC-40', 'Success', '01'),\n ('F9 B5 B1046.4', 'KSC LC-39A', 'No attempt', '01'),\n ('F9 B5 B1051.3', 'CCAFS SLC-40', 'Success', '01'),\n ('F9 B5 B1056.4', 'CCAFS SLC-40', 'Failure', '02'),\n ('F9 B5 B1059.2', 'CCAFS SLC-40', 'Success', '03'),\n ('F9 B5 B1048.5', 'KSC LC-39A', 'Failure', '03'),\n ('F9 B5 B1051.4', 'KSC LC-39A', 'Success', '04'),\n ('F9 B5B1058.1 ', 'KSC LC-39A', 'Success', '05'),\n ('F9 B5 B1049.5', 'CCAFS SLC-40', 'Success', '06'),\n ('F9 B5 B1059.3', 'CCAFS SLC-40', 'Success', '06'),\n ('F9 B5B1060.1', 'CCAFS SLC-40', 'Success', '06'),\n ('F9 B5 B1058.2 ', 'CCAFS SLC-40', 'Success', '07'),\n ('F9 B5 B1051.5', 'KSC LC-39A', 'Success', '08'),\n ('F9 B5 B1049.6', 'CCAFS SLC-40', 'Success', '08'),\n ('F9 B5 B1059.4', 'CCAFS SLC-40', 'Success', '08'),\n ('F9 B5 B1060.2 ', 'KSC LC-39A', 'Success', '09'),\n ('F9 B5 B1058.3 ', 'KSC LC-39A', 'Success', '10'),\n ('F9 B5 B1051.6', 'KSC LC-39A', 'Success', '10'),\n ('F9 B5 B1060.3', 'CCAFS SLC-40', 'Success', '10'),\n ('F9 B5B1062.1', 'CCAFS SLC-40', 'Success', '11'),\n ('F9 B5B1061.1 ', 'KSC LC-39A', 'Success', '11'),\n ('F9 B5B1063.1', 'VAFB SLC-4E', 'Success', '11'),\n ('F9 B5 B1049.7 ', 'CCAFS SLC-40', 'Success', '11'),\n ('F9 B5 B1058.4 ', 'KSC LC-39A', 'Success', '12')]"
                    },
                    "execution_count": 18,
                    "metadata": {},
                    "output_type": "execute_result"
                }
            ],
            "source": "%sql select Booster_Version, Launch_Site, [Landing _Outcome], substr(Date, 4, 2) as Month from SPACEXTBL;"
        },
        {
            "cell_type": "markdown",
            "metadata": {},
            "source": "### Task 10\n\n##### Rank the count of landing outcomes (such as Failure (drone ship) or Success (ground pad)) between the date 2010-06-04 and 2017-03-20, in descending order\n"
        },
        {
            "cell_type": "code",
            "execution_count": 19,
            "metadata": {},
            "outputs": [
                {
                    "name": "stdout",
                    "output_type": "stream",
                    "text": " * sqlite:///my_data1.db\nDone.\n"
                },
                {
                    "data": {
                        "text/html": "<table>\n    <tr>\n        <th>Landing _Outcome</th>\n        <th>COUNT (*)</th>\n    </tr>\n    <tr>\n        <td>Success</td>\n        <td>20</td>\n    </tr>\n    <tr>\n        <td>No attempt</td>\n        <td>10</td>\n    </tr>\n    <tr>\n        <td>Success (drone ship)</td>\n        <td>8</td>\n    </tr>\n    <tr>\n        <td>Success (ground pad)</td>\n        <td>6</td>\n    </tr>\n    <tr>\n        <td>Failure (drone ship)</td>\n        <td>4</td>\n    </tr>\n    <tr>\n        <td>Failure</td>\n        <td>3</td>\n    </tr>\n    <tr>\n        <td>Controlled (ocean)</td>\n        <td>3</td>\n    </tr>\n    <tr>\n        <td>Failure (parachute)</td>\n        <td>2</td>\n    </tr>\n    <tr>\n        <td>No attempt </td>\n        <td>1</td>\n    </tr>\n</table>",
                        "text/plain": "[('Success', 20),\n ('No attempt', 10),\n ('Success (drone ship)', 8),\n ('Success (ground pad)', 6),\n ('Failure (drone ship)', 4),\n ('Failure', 3),\n ('Controlled (ocean)', 3),\n ('Failure (parachute)', 2),\n ('No attempt ', 1)]"
                    },
                    "execution_count": 19,
                    "metadata": {},
                    "output_type": "execute_result"
                }
            ],
            "source": "%%sql select [Landing _Outcome], COUNT (*)\nFROM SPACEXTBL\nWHERE DATE BETWEEN '04-06-2010' AND '20-03-2017' \ngroup by [Landing _Outcome]\norder by COUNT (*) DESC"
        },
        {
            "cell_type": "markdown",
            "metadata": {},
            "source": "### Reference Links\n\n*   <a href =\"https://cf-courses-data.s3.us.cloud-object-storage.appdomain.cloud/IBMDeveloperSkillsNetwork-DB0201EN-SkillsNetwork/labs/Labs_Coursera_V5/labs/Lab%20-%20String%20Patterns%20-%20Sorting%20-%20Grouping/instructional-labs.md.html?utm_medium=Exinfluencer&utm_source=Exinfluencer&utm_content=000026UJ&utm_term=10006555&utm_id=NA-SkillsNetwork-Channel-SkillsNetworkCoursesIBMDS0321ENSkillsNetwork26802033-2022-01-01&origin=www.coursera.org\">Hands-on Lab : String Patterns, Sorting and Grouping</a>\n\n*   <a  href=\"https://cf-courses-data.s3.us.cloud-object-storage.appdomain.cloud/IBMDeveloperSkillsNetwork-DB0201EN-SkillsNetwork/labs/Labs_Coursera_V5/labs/Lab%20-%20Built-in%20functions%20/Hands-on_Lab__Built-in_Functions.md.html?utm_medium=Exinfluencer&utm_source=Exinfluencer&utm_content=000026UJ&utm_term=10006555&utm_id=NA-SkillsNetwork-Channel-SkillsNetworkCoursesIBMDS0321ENSkillsNetwork26802033-2022-01-01&origin=www.coursera.org\">Hands-on Lab: Built-in functions</a>\n\n*   <a  href=\"https://cf-courses-data.s3.us.cloud-object-storage.appdomain.cloud/IBMDeveloperSkillsNetwork-DB0201EN-SkillsNetwork/labs/Labs_Coursera_V5/labs/Lab%20-%20Sub-queries%20and%20Nested%20SELECTs%20/instructional-labs.md.html?utm_medium=Exinfluencer&utm_source=Exinfluencer&utm_content=000026UJ&utm_term=10006555&utm_id=NA-SkillsNetwork-Channel-SkillsNetworkCoursesIBMDS0321ENSkillsNetwork26802033-2022-01-01&origin=www.coursera.org\">Hands-on Lab : Sub-queries and Nested SELECT Statements</a>\n\n*   <a href=\"https://cf-courses-data.s3.us.cloud-object-storage.appdomain.cloud/IBMDeveloperSkillsNetwork-DB0201EN-SkillsNetwork/labs/Module%205/DB0201EN-Week3-1-3-SQLmagic.ipynb?utm_medium=Exinfluencer&utm_source=Exinfluencer&utm_content=000026UJ&utm_term=10006555&utm_id=NA-SkillsNetwork-Channel-SkillsNetworkCoursesIBMDS0321ENSkillsNetwork26802033-2022-01-01\">Hands-on Tutorial: Accessing Databases with SQL magic</a>\n\n*   <a href= \"https://cf-courses-data.s3.us.cloud-object-storage.appdomain.cloud/IBMDeveloperSkillsNetwork-DB0201EN-SkillsNetwork/labs/Module%205/DB0201EN-Week3-1-4-Analyzing.ipynb?utm_medium=Exinfluencer&utm_source=Exinfluencer&utm_content=000026UJ&utm_term=10006555&utm_id=NA-SkillsNetwork-Channel-SkillsNetworkCoursesIBMDS0321ENSkillsNetwork26802033-2022-01-01\">Hands-on Lab: Analyzing a real World Data Set</a>\n"
        },
        {
            "cell_type": "markdown",
            "metadata": {},
            "source": "## Author(s)\n\n<h4> Lakshmi Holla </h4>\n"
        },
        {
            "cell_type": "markdown",
            "metadata": {},
            "source": "## Other Contributors\n\n<h4> Rav Ahuja </h4>\n"
        },
        {
            "cell_type": "markdown",
            "metadata": {},
            "source": "## Change log\n\n| Date       | Version | Changed by    | Change Description        |\n| ---------- | ------- | ------------- | ------------------------- |\n| 2021-10-12 | 0.4     | Lakshmi Holla | Changed markdown          |\n| 2021-08-24 | 0.3     | Lakshmi Holla | Added library update      |\n| 2021-07-09 | 0.2     | Lakshmi Holla | Changes made in magic sql |\n| 2021-05-20 | 0.1     | Lakshmi Holla | Created Initial Version   |\n"
        },
        {
            "cell_type": "markdown",
            "metadata": {},
            "source": "## <h3 align=\"center\"> \u00a9 IBM Corporation 2021. All rights reserved. <h3/>\n"
        }
    ],
    "metadata": {
        "kernelspec": {
            "display_name": "Python 3.9",
            "language": "python",
            "name": "python3"
        },
        "language_info": {
            "codemirror_mode": {
                "name": "ipython",
                "version": 3
            },
            "file_extension": ".py",
            "mimetype": "text/x-python",
            "name": "python",
            "nbconvert_exporter": "python",
            "pygments_lexer": "ipython3",
            "version": "3.9.12"
        }
    },
    "nbformat": 4,
    "nbformat_minor": 4
}